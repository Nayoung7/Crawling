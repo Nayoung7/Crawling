{
 "cells": [
  {
   "cell_type": "markdown",
   "id": "60218a69",
   "metadata": {},
   "source": [
    "### 유튜브 영상제목, 조회수 크롤링"
   ]
  },
  {
   "cell_type": "code",
   "execution_count": 1,
   "id": "6fc83bea",
   "metadata": {},
   "outputs": [],
   "source": [
    "from selenium import webdriver as wb\n",
    "from selenium.webdriver.common.keys import Keys\n",
    "import time"
   ]
  },
  {
   "cell_type": "code",
   "execution_count": 25,
   "id": "40b8f526",
   "metadata": {
    "collapsed": true
   },
   "outputs": [
    {
     "name": "stderr",
     "output_type": "stream",
     "text": [
      "C:\\Users\\smhrd\\AppData\\Local\\Temp/ipykernel_10152/862764664.py:5: DeprecationWarning: find_element_by_* commands are deprecated. Please use find_element() instead\n",
      "  body = driver.find_element_by_css_selector('body')\n",
      "C:\\Users\\smhrd\\AppData\\Local\\Temp/ipykernel_10152/862764664.py:14: DeprecationWarning: find_elements_by_* commands are deprecated. Please use find_elements() instead\n",
      "  title = driver.find_elements_by_id('video-title')\n",
      "C:\\Users\\smhrd\\AppData\\Local\\Temp/ipykernel_10152/862764664.py:15: DeprecationWarning: find_elements_by_* commands are deprecated. Please use find_elements() instead\n",
      "  view = driver.find_elements_by_css_selector('div#metadata-line > span:nth-child(1)')\n"
     ]
    },
    {
     "name": "stdout",
     "output_type": "stream",
     "text": [
      "[IU] '겨울잠 (Winter Sleep)' Live Clip\n",
      "[IU] '정거장' - 조각집 선공개 Live Clip\n",
      "[IU TV] 후배들 울린 MMA 썰 푼다.ssul\n",
      "[MMA 2021] IU - Lilac\n",
      "[MMA 2021] IU - strawberry moon + Celebrity\n",
      "[IU] '꿈빛 파티시엘' Bonus Cut #shorts\n",
      "[IU] '꿈빛 파티시엘' dlwlrma Clip\n",
      "[아이유의 팔레트] 올해 F/W는 2am Ballad다! (With 2am) Ep.10\n",
      "[꿈빛셰프유] 이 손이 베이킹도 성공할 손인가? Ep.2 l 딸기 마카롱 + 딸기 아이스크림\n",
      "[IU TV] 기상청이 그랬어 오늘 '딸기 달' 뜬다고🍓🌝🍓 ('strawberry moon' M/V 비하인드)\n",
      "[IU TV] 13주년 MD 디자인 정복기\n",
      "[꿈빛셰프유] 데뷔 13주년 기념 생일상 Ep.1ㅣ미역국+제육볶음\n",
      "[IU TV] 타임머신 편 ㅣ 분노의 시상식 (셀럽의 삶이란...)\n",
      "[IU TV] 타임머신 편ㅣ아직도 남아 있는 너의 향기\n",
      "[아이유의 팔레트] IKMU(아익뮤)와 눈 딱 감고 낙하 (With AKMU) Ep.9\n",
      "[IU TV] 아빠를 위해 준비했어\n",
      "[MV] IU(아이유)_Epilogue(에필로그)\n",
      "[아이유의 팔레트] 팔레트에 설치된 와이파이 (With 공유) Ep.8\n",
      "[IU TV] 세기의 빅매치 전국구의 이지금 VS 전라도의 아귀 ('Coin' M/V 비하인드)\n",
      "[IU TV] 지금 웃어? 이지금의 금주먹이 우스워? ('LILAC' M/V 비하인드)\n",
      "[IU] 'Coin' MV Reaction ㅣ With 유희열, 샤이니\n",
      "[IU] '라일락(LILAC)' MV Reaction ㅣ With 유재석, 조세호\n",
      "[아이유의 팔레트] 팔레트에서 지겹게 보자고 (With 아이유) Ep.7\n",
      "[IU] '라일락(LILAC)' DANCE PRACTICE\n",
      "[엔터 직장인 이지동] 제 꿈을 펼쳐보겠습니다\n",
      "[아이유의 팔레트] 형이 왜 거기서 나와...? (With 변요한) Ep.6\n",
      "[IU] '라일락' Preview Video\n",
      "[IU TV] 사랑에 빠진 좀비유의 아침\n",
      "[엔터 직장인 이지동] 짤릴 각오하고 신곡 한번 들어봤습니다\n",
      "[아이유의 팔레트] '빛나는 팔레트' (With 샤이니) Ep.5\n",
      "[엔터 직장인 이지동] 아이유 정규 5집 재킷 콘셉트 회의\n",
      "[IU TV] You are my 셀럽트위티 ('Celebrity' M/V 비하인드)\n",
      "[아이유의 팔레트] 팔레트에 '있지' (With ITZY) Ep.4\n",
      "[IU TV] 아이유 분노의 크리스마스\n",
      "[아이유의 팔레트] 아이유, 이승기님이 '니 곡 내 곡' 스킬을 시전하셨습니다 (With 이승기) Ep.3\n",
      "[IU TV] 훈이가 보는 지은이\n",
      "[IU TV] 지은이가 보는 지은이\n",
      "[IU TV] 아이유의 시간은 거꾸로 간다\n",
      "[IU] '내 손을 잡아(Hold My Hand)' Live Clip (2019 IU Tour Concert 'Love, poem')\n",
      "[IU] '시간의 바깥 (above the time)' Live Clip\n",
      "[IU] 'Love poem' Live Clip\n",
      "[IU TV] 내 이름은 지은. 예리하죠\n",
      "[아이유의 팔레트] 맛있게 그려요 (With 로꼬) Ep.2\n",
      "[IU TV] 아이유의 유스케 정복기\n",
      "[IU TV] 데뷔 12주년 비하인드\n",
      "[IU] 신입사원 이지동의 ASMR\n",
      "[IU TV] 투어를 마친 아이유의 진짜 속마음은?\n",
      "[IU TV] 투어를 마친 아이유의 속마음은?\n",
      "[IU TV] 안녕! 오래 기다렸니?\n",
      "[IU TV] 아이유 분노의 쇼핑\n",
      "[IU] 'eight' Acoustic Ver. Live Clip\n",
      "[IU TV] 옥상으로 따라와! '에잇'(Prod.&Feat. SUGA of BTS) M/V 비하인드\n",
      "[IU TV] 범인은 이 안에 있어!\n",
      "[IU TV] 아이유 분노의 시승식!\n",
      "[IU TV] 분노의 먹방 in 타이베이\n",
      "[IU TV] 360° 공연 참 좋다!\n",
      "[IU TV] 내가! 마! 억수로! 좋아한다고!\n",
      "[IU TV] 이게 공연이지C\n",
      "[IU TV] 투 머치 토커 아이유\n",
      "[IU TV] 너의 이름을 불러줄게\n",
      "아이유의 2020 새해 메시지 (New Year’s Greetings from IU)\n",
      "[IU] '191231' Gift Clip\n",
      "[IU] Blueming Live Clip (2019 IU Tour Concert 'Love, poem')\n",
      "[IU] 아이유 2020 Season's Greetings Preview\n",
      "[IU TV] Blueming 꽃이 피었습니다\n",
      "[IU TV] '그 사람' 부끄러워 않아요\n",
      "[IU] 'Blueming' 응원법\n",
      "아이유(IU) : [BEHIND] ‘Blueming’ M/V Sketch Film\n",
      "[IU TV] 아이유 분노의 포토샵!\n",
      "[IU TV] 아이유 분노의 티켓팅!\n",
      "[IU TV] 이지은에게 물어봐!\n",
      "[IU TV] 엉망진창 아이유 11주년 파티\n",
      "[IU TV] 장만월에게 물어봐!\n",
      "[IU TV] 안녕... 장만월\n",
      "[IU TV] 돌아와! 아직 안 끝났어!\n",
      "[IU TV] '호텔 델루나' 장만월의 바깥 나들이\n",
      "[IU TV] 'dlwlrma.' Concert - Jeju Ep.2\n",
      "[IU TV] 100만 구독 달성 기념!! '이지금에게 물어봐'\n",
      "[IU] 'BBIBBI’ ('dlwlrma' Concert Mix Ver.) 스페셜 영상\n",
      "[IU TV] 수상한 영업이 시작된다! (호텔 델루나 티저 메이킹)\n",
      "[유애나] IU OFFICIAL FANCLUB UAENA 3기 모집\n",
      "[IU TV] 'dlwlrma.' Concert - Jeju Ep.1\n",
      "[IU TV] 'dlwlrma.' Concert - Taipei Ep.2\n",
      "[IU TV] HAPPY IU DAY (With. 유애나)\n",
      "[IU TV] 'dlwlrma.' Concert - Taipei Ep.1\n",
      "[IU TV] 'dlwlrma.' Concert - Bangkok\n",
      "[IU TV] 'dlwlrma.' Concert - Singapore\n",
      "[IU TV] 'dlwlrma.' Concert - Singapore (April Fools' Day Ver.)\n",
      "IU(아이유) - 잊어야 한다는 마음으로 Concert Live Clip (@ 2018 Tour '이 지금 dlwlrma')\n",
      "IU(아이유) - 너의 의미 Concert Live Clip (@ 2018 Tour '이 지금 dlwlrma')\n",
      "[IU TV] 'dlwlrma.' Concert - HongKong\n",
      "아이유가 전하는 2019 새해 메시지 (New Year’s Greetings from IU)\n",
      "[IU TV] 'dlwlrma.' Concert - Seoul\n",
      "[IU] Palette (팔레트) Acoustic Ver. (Feat. UAENA)\n",
      "아이유(IU) 2019 Season's Greeting Preview\n",
      "[IU TV] IU 10th Anniv. Tour Concert 'dlwlrma. (이 지금)' - Busan & Gwangju\n",
      "[IU TV] 2018 IU Tour Concert ‘dlwlrma.’ VCR Behind\n",
      "IU(아이유) - 2019학년도 수능 응원 메시지\n",
      "아이유(IU) : '삐삐(BBIBBI)' DANCE PRACTICE\n",
      "[IU TV] '삐삐(BBIBBI)' M/V Making\n",
      "아이유(IU) : [BEHIND] ‘삐삐(BBIBBI)’ M/V Sketch Film\n",
      "[IU TV] Debut 10th Anniversary Fan Meeting\n",
      "이지금의 ASMR (IU's 10th Anniversary Gift)\n",
      "아이유(IU) 공식 팬클럽 유애나(UAENA) 2기 모집\n",
      "[IU TV] Birthday Fan Meeting Q&A\n",
      "[IU TV] '나의 아저씨' Behind & Birthday Fan Meeting\n",
      "[IU TV] Sneak Peek for UAENA (아이유 습작곡 깜짝 공개) (April Fools' Day Special)\n",
      "[IU TEAM TV] GAONCHART MUSIC AWARDS 2017\n",
      "[IU TV] Tour Concert 'Palette' in Seoul\n",
      "[IU TV] Tour Concert 'Palette' in Cheongju\n",
      "[故 김광석 22주기 헌정영상] 잊어야 한다는 마음으로 – 아이유\n",
      "아이유가 전하는 2017 연말 메시지 (Season's Greetings from IU)\n",
      "[IU] Black Out & Last Night story(어젯밤 이야기) Concert Live Clip (@2017 Tour ‘Palette’)\n",
      "[IU] Rain-Drop & Heart(마음) Concert Live Clip (@2017 Tour ‘Palette’)\n",
      "[IU] Through the Night(밤편지) Concert Live Clip (@ 2017 Tour ‘Palette’)\n",
      "[IU] dlwlrma(이지금) & Jam Jam(잼잼) Concert Live Clip (@ 2017 Tour ‘Palette’)\n",
      "[IU TV] Tour Concert 'Palette' in HongKong\n",
      "아이유(IU) 2018 Calendar Preview\n",
      "[IU TV] Tour Concert 'Palette' in Busan&Gwangju\n",
      "아이유(IU) 2018학년도 수능 응원 메시지(Supporting Message for the College Scholastic Ability Test)\n",
      "[IU TV] '꽃갈피 둘(Kkot-Galpi #2)' Album Making #2 & Fan Meeting\n",
      "[IU TV] '꽃갈피 둘(Kkot-Galpi #2)' Album Making #1\n",
      "아이유(IU) : [BEHIND] ‘꽃갈피 둘(Kkot-Galpi #2)’ Album Recording\n",
      "아이유(IU) : [BEHIND] ‘어젯밤 이야기(Eojetbam Iyagi : Last night story)’ M/V Filming\n",
      "아이유(IU) : [BEHIND] ‘꽃갈피 둘(Kkot-Galpi #2)’ Teaser Sketch Film\n",
      "아이유(IU) : [BEHIND] ‘가을 아침(Gaeul Achim : Autumn morning)’ Recording\n",
      "아이유(IU) : [BEHIND] ‘꽃갈피 둘(Kkot-Galpi #2)’ Jacket Photo Shooting\n",
      "아이유(IU) 공식 팬클럽 유애나(UAENA) 1기 모집\n",
      "[IU TV] 'Palette' Epilogue #2\n",
      "[IU TV] 'Palette' Epilogue #1\n",
      "[IU TV] 'Palette' Album Making #2\n",
      "[IU TV] 'Palette' Album Making #1\n",
      "[Teaser] 아이유(IU) _ 이름에게(Dear Name)\n",
      "[IU CLIP] '사랑이 잘' LIVE with 오혁\n",
      "[Teaser] 아이유(IU) _ 사랑이 잘(Can’t Love You Anymore) (With 오혁(OHHYUK))\n",
      "[IU TV] '밤편지(Through the Night)' M/V Making\n",
      "[한터 TV] '밤편지(Through the Night)' M/V Making (April Fools' Day Special)\n",
      "[IU TV] '24STEPS' in Taiwan\n",
      "[IU TV] '24 STEPS' in HongKong\n",
      "조회수 87만회\n",
      "조회수 140만회\n",
      "조회수 103만회\n",
      "조회수 227만회\n",
      "조회수 602만회\n",
      "조회수 98만회\n",
      "조회수 430만회\n",
      "조회수 164만회\n",
      "조회수 133만회\n",
      "조회수 152만회\n",
      "조회수 89만회\n",
      "조회수 154만회\n",
      "조회수 65만회\n",
      "조회수 81만회\n",
      "조회수 486만회\n",
      "조회수 184만회\n",
      "조회수 328만회\n",
      "조회수 470만회\n",
      "조회수 98만회\n",
      "조회수 127만회\n",
      "조회수 73만회\n",
      "조회수 116만회\n",
      "조회수 144만회\n",
      "조회수 657만회\n",
      "조회수 69만회\n",
      "조회수 147만회\n",
      "조회수 122만회\n",
      "조회수 125만회\n",
      "조회수 106만회\n",
      "조회수 500만회\n",
      "조회수 84만회\n",
      "조회수 220만회\n",
      "조회수 607만회\n",
      "조회수 155만회\n",
      "조회수 425만회\n",
      "조회수 235만회\n",
      "조회수 408만회\n",
      "조회수 107만회\n",
      "조회수 3742만회\n",
      "조회수 460만회\n",
      "조회수 1438만회\n",
      "조회수 215만회\n",
      "조회수 221만회\n",
      "조회수 112만회\n",
      "조회수 69만회\n",
      "조회수 383만회\n",
      "조회수 165만회\n",
      "조회수 113만회\n",
      "조회수 156만회\n",
      "조회수 277만회\n",
      "조회수 4837만회\n",
      "조회수 355만회\n",
      "조회수 148만회\n",
      "조회수 1266만회\n",
      "조회수 317만회\n",
      "조회수 279만회\n",
      "조회수 237만회\n",
      "조회수 166만회\n",
      "조회수 99만회\n",
      "조회수 82만회\n",
      "조회수 65만회\n",
      "조회수 81만회\n",
      "조회수 5910만회\n",
      "조회수 54만회\n",
      "조회수 109만회\n",
      "조회수 77만회\n",
      "조회수 475만회\n",
      "조회수 63만회\n",
      "조회수 174만회\n",
      "조회수 478만회\n",
      "조회수 83만회\n",
      "조회수 56만회\n",
      "조회수 215만회\n",
      "조회수 196만회\n",
      "조회수 277만회\n",
      "조회수 148만회\n",
      "조회수 101만회\n",
      "조회수 284만회\n",
      "조회수 318만회\n",
      "조회수 210만회\n",
      "조회수 27만회\n",
      "조회수 88만회\n",
      "조회수 90만회\n",
      "조회수 365만회\n",
      "조회수 201만회\n",
      "조회수 68만회\n",
      "조회수 97만회\n",
      "조회수 105만회\n",
      "조회수 97만회\n",
      "조회수 266만회\n",
      "조회수 74만회\n",
      "조회수 40만회\n",
      "조회수 202만회\n",
      "조회수 162만회\n",
      "조회수 26만회\n",
      "조회수 90만회\n",
      "조회수 65만회\n",
      "조회수 83만회\n",
      "조회수 3120만회\n",
      "조회수 200만회\n",
      "조회수 35만회\n",
      "조회수 42만회\n",
      "조회수 626만회\n",
      "조회수 23만회\n",
      "조회수 33만회\n",
      "조회수 67만회\n",
      "조회수 57만회\n",
      "조회수 22만회\n",
      "조회수 80만회\n",
      "조회수 47만회\n",
      "조회수 512만회\n",
      "조회수 19만회\n",
      "조회수 247만회\n",
      "조회수 558만회\n",
      "조회수 45만회\n",
      "조회수 320만회\n",
      "조회수 43만회\n",
      "조회수 26만회\n",
      "조회수 30만회\n",
      "조회수 15만회\n",
      "조회수 27만회\n",
      "조회수 51만회\n",
      "조회수 14만회\n",
      "조회수 12만회\n",
      "조회수 8.2만회\n",
      "조회수 8만회\n",
      "조회수 15만회\n",
      "조회수 22만회\n",
      "조회수 39만회\n",
      "조회수 47만회\n",
      "조회수 63만회\n",
      "조회수 258만회\n",
      "조회수 38만회\n",
      "조회수 447만회\n",
      "조회수 15만회\n",
      "조회수 111만회\n",
      "조회수 26만회\n",
      "조회수 79만회\n",
      "조회수 49만회\n"
     ]
    }
   ],
   "source": [
    "driver = wb.Chrome()\n",
    "time.sleep(0.5)\n",
    "driver.get(\"https://www.youtube.com/c/dlwlrma/videos\")\n",
    "time.sleep(1)\n",
    "body = driver.find_element_by_css_selector('body')\n",
    "\n",
    "try : \n",
    "    for i in range(10):\n",
    "        body.send_keys(Keys.END)\n",
    "        time.sleep(1)\n",
    "except:\n",
    "    print('스크롤이 끝났습니다.')\n",
    "    \n",
    "title = driver.find_elements_by_id('video-title')\n",
    "view = driver.find_elements_by_css_selector('div#metadata-line > span:nth-child(1)')\n",
    "for i in title:\n",
    "    print(i.text)\n",
    "for i in view:\n",
    "    print(i.text)"
   ]
  },
  {
   "cell_type": "code",
   "execution_count": 19,
   "id": "9812b2a4",
   "metadata": {},
   "outputs": [],
   "source": [
    "driver = wb.Chrome()\n",
    "driver.get(\"https://www.youtube.com/c/dlwlrma/videos\")"
   ]
  },
  {
   "cell_type": "code",
   "execution_count": 13,
   "id": "4788cd7d",
   "metadata": {},
   "outputs": [
    {
     "name": "stderr",
     "output_type": "stream",
     "text": [
      "C:\\Users\\smhrd\\AppData\\Local\\Temp/ipykernel_10152/1126923681.py:1: DeprecationWarning: find_elements_by_* commands are deprecated. Please use find_elements() instead\n",
      "  title = driver.find_elements_by_id('video-title')\n"
     ]
    },
    {
     "data": {
      "text/plain": [
       "159"
      ]
     },
     "execution_count": 13,
     "metadata": {},
     "output_type": "execute_result"
    }
   ],
   "source": [
    "title = driver.find_elements_by_id('video-title')\n",
    "len(title)"
   ]
  },
  {
   "cell_type": "code",
   "execution_count": 5,
   "id": "0967d4c7",
   "metadata": {
    "collapsed": true
   },
   "outputs": [
    {
     "name": "stdout",
     "output_type": "stream",
     "text": [
      "[IU] '겨울잠 (Winter Sleep)' Live Clip\n",
      "[IU] '정거장' - 조각집 선공개 Live Clip\n",
      "[IU TV] 후배들 울린 MMA 썰 푼다.ssul\n",
      "[MMA 2021] IU - Lilac\n",
      "[MMA 2021] IU - strawberry moon + Celebrity\n",
      "[IU] '꿈빛 파티시엘' Bonus Cut #shorts\n",
      "[IU] '꿈빛 파티시엘' dlwlrma Clip\n",
      "[아이유의 팔레트] 올해 F/W는 2am Ballad다! (With 2am) Ep.10\n",
      "[꿈빛셰프유] 이 손이 베이킹도 성공할 손인가? Ep.2 l 딸기 마카롱 + 딸기 아이스크림\n",
      "[IU TV] 기상청이 그랬어 오늘 '딸기 달' 뜬다고🍓🌝🍓 ('strawberry moon' M/V 비하인드)\n",
      "[IU TV] 13주년 MD 디자인 정복기\n",
      "[꿈빛셰프유] 데뷔 13주년 기념 생일상 Ep.1ㅣ미역국+제육볶음\n",
      "[IU TV] 타임머신 편 ㅣ 분노의 시상식 (셀럽의 삶이란...)\n",
      "[IU TV] 타임머신 편ㅣ아직도 남아 있는 너의 향기\n",
      "[아이유의 팔레트] IKMU(아익뮤)와 눈 딱 감고 낙하 (With AKMU) Ep.9\n",
      "[IU TV] 아빠를 위해 준비했어\n",
      "[MV] IU(아이유)_Epilogue(에필로그)\n",
      "[아이유의 팔레트] 팔레트에 설치된 와이파이 (With 공유) Ep.8\n",
      "[IU TV] 세기의 빅매치 전국구의 이지금 VS 전라도의 아귀 ('Coin' M/V 비하인드)\n",
      "[IU TV] 지금 웃어? 이지금의 금주먹이 우스워? ('LILAC' M/V 비하인드)\n",
      "[IU] 'Coin' MV Reaction ㅣ With 유희열, 샤이니\n",
      "[IU] '라일락(LILAC)' MV Reaction ㅣ With 유재석, 조세호\n",
      "[아이유의 팔레트] 팔레트에서 지겹게 보자고 (With 아이유) Ep.7\n",
      "[IU] '라일락(LILAC)' DANCE PRACTICE\n",
      "[엔터 직장인 이지동] 제 꿈을 펼쳐보겠습니다\n",
      "[아이유의 팔레트] 형이 왜 거기서 나와...? (With 변요한) Ep.6\n",
      "[IU] '라일락' Preview Video\n",
      "[IU TV] 사랑에 빠진 좀비유의 아침\n",
      "[엔터 직장인 이지동] 짤릴 각오하고 신곡 한번 들어봤습니다\n",
      "[아이유의 팔레트] '빛나는 팔레트' (With 샤이니) Ep.5\n"
     ]
    }
   ],
   "source": [
    "for i in title:\n",
    "    print(i.text)"
   ]
  },
  {
   "cell_type": "code",
   "execution_count": 36,
   "id": "2a806508",
   "metadata": {},
   "outputs": [
    {
     "ename": "AttributeError",
     "evalue": "'list' object has no attribute 'text'",
     "output_type": "error",
     "traceback": [
      "\u001b[1;31m---------------------------------------------------------------------------\u001b[0m",
      "\u001b[1;31mAttributeError\u001b[0m                            Traceback (most recent call last)",
      "\u001b[1;32m~\\AppData\\Local\\Temp/ipykernel_10152/2294090252.py\u001b[0m in \u001b[0;36m<module>\u001b[1;34m\u001b[0m\n\u001b[1;32m----> 1\u001b[1;33m \u001b[0mtitle\u001b[0m\u001b[1;33m.\u001b[0m\u001b[0mtext\u001b[0m\u001b[1;33m\u001b[0m\u001b[1;33m\u001b[0m\u001b[0m\n\u001b[0m",
      "\u001b[1;31mAttributeError\u001b[0m: 'list' object has no attribute 'text'"
     ]
    }
   ],
   "source": [
    "title.text"
   ]
  },
  {
   "cell_type": "code",
   "execution_count": 7,
   "id": "967613fd",
   "metadata": {},
   "outputs": [
    {
     "name": "stderr",
     "output_type": "stream",
     "text": [
      "C:\\Users\\smhrd\\AppData\\Local\\Temp/ipykernel_10152/2501099777.py:1: DeprecationWarning: find_elements_by_* commands are deprecated. Please use find_elements() instead\n",
      "  view = driver.find_elements_by_css_selector('div > span.style-scope.ytd-grid-video-renderer:nth-child(1)')\n"
     ]
    },
    {
     "data": {
      "text/plain": [
       "30"
      ]
     },
     "execution_count": 7,
     "metadata": {},
     "output_type": "execute_result"
    }
   ],
   "source": [
    "view = driver.find_elements_by_css_selector('div > span.style-scope.ytd-grid-video-renderer:nth-child(1)')\n",
    "len(view)"
   ]
  },
  {
   "cell_type": "code",
   "execution_count": 14,
   "id": "9f6b52ee",
   "metadata": {},
   "outputs": [
    {
     "name": "stderr",
     "output_type": "stream",
     "text": [
      "C:\\Users\\smhrd\\AppData\\Local\\Temp/ipykernel_10152/3027131757.py:2: DeprecationWarning: find_elements_by_* commands are deprecated. Please use find_elements() instead\n",
      "  view = driver.find_elements_by_css_selector('div#metadata-line > span:nth-child(1)')\n"
     ]
    },
    {
     "data": {
      "text/plain": [
       "158"
      ]
     },
     "execution_count": 14,
     "metadata": {},
     "output_type": "execute_result"
    }
   ],
   "source": [
    "# nth-child(몇번째) : 가상선택자?\n",
    "view = driver.find_elements_by_css_selector('div#metadata-line > span:nth-child(1)')\n",
    "len(view)"
   ]
  },
  {
   "cell_type": "code",
   "execution_count": 10,
   "id": "8b359470",
   "metadata": {
    "collapsed": true
   },
   "outputs": [
    {
     "name": "stdout",
     "output_type": "stream",
     "text": [
      "조회수 87만회\n",
      "조회수 140만회\n",
      "조회수 103만회\n",
      "조회수 227만회\n",
      "조회수 602만회\n",
      "조회수 98만회\n",
      "조회수 430만회\n",
      "조회수 164만회\n",
      "조회수 133만회\n",
      "조회수 152만회\n",
      "조회수 89만회\n",
      "조회수 154만회\n",
      "조회수 65만회\n",
      "조회수 81만회\n",
      "조회수 486만회\n",
      "조회수 184만회\n",
      "조회수 328만회\n",
      "조회수 470만회\n",
      "조회수 98만회\n",
      "조회수 127만회\n",
      "조회수 73만회\n",
      "조회수 116만회\n",
      "조회수 144만회\n",
      "조회수 657만회\n",
      "조회수 69만회\n",
      "조회수 147만회\n",
      "조회수 122만회\n",
      "조회수 125만회\n",
      "조회수 106만회\n",
      "조회수 500만회\n"
     ]
    }
   ],
   "source": [
    "for i in view:\n",
    "    print(i.text)"
   ]
  },
  {
   "cell_type": "code",
   "execution_count": null,
   "id": "1c34c52c",
   "metadata": {},
   "outputs": [],
   "source": [
    "#metadata-line > span:nth-child(1) \n",
    "# 원하는 요소에서 오른쪽마우스 copy selector"
   ]
  },
  {
   "cell_type": "code",
   "execution_count": 15,
   "id": "7683567e",
   "metadata": {},
   "outputs": [],
   "source": [
    "# 스크롤 하는 방법"
   ]
  },
  {
   "cell_type": "code",
   "execution_count": 21,
   "id": "13939731",
   "metadata": {},
   "outputs": [
    {
     "name": "stderr",
     "output_type": "stream",
     "text": [
      "C:\\Users\\smhrd\\AppData\\Local\\Temp/ipykernel_10152/4155264750.py:1: DeprecationWarning: find_element_by_* commands are deprecated. Please use find_element() instead\n",
      "  body = driver.find_element_by_css_selector('body')\n"
     ]
    }
   ],
   "source": [
    "body = driver.find_element_by_css_selector('body')"
   ]
  },
  {
   "cell_type": "code",
   "execution_count": 24,
   "id": "1bf07c6d",
   "metadata": {},
   "outputs": [],
   "source": [
    "body.send_keys(Keys.END)"
   ]
  },
  {
   "cell_type": "markdown",
   "id": "566a3f99",
   "metadata": {},
   "source": [
    "### Gmarket 베스트 수집"
   ]
  },
  {
   "cell_type": "code",
   "execution_count": null,
   "id": "c3ca3dfb",
   "metadata": {},
   "outputs": [],
   "source": [
    "#gBestWrap > div > div:nth-child(5) > div:nth-child(3) > ul > li:nth-child(1) > div.thumb > a > img\n",
    "#gBestWrap > div > div:nth-child(5) > div:nth-child(3) > ul > li:nth-child(2) > div.thumb > a > img"
   ]
  },
  {
   "cell_type": "code",
   "execution_count": 30,
   "id": "fc689811",
   "metadata": {},
   "outputs": [
    {
     "name": "stderr",
     "output_type": "stream",
     "text": [
      "C:\\Users\\smhrd\\AppData\\Local\\Temp/ipykernel_10152/109716191.py:3: DeprecationWarning: find_elements_by_* commands are deprecated. Please use find_elements() instead\n",
      "  img = driver.find_elements_by_css_selector('img.lazy')\n"
     ]
    }
   ],
   "source": [
    "driver = wb.Chrome()\n",
    "driver.get(\"http://corners.gmarket.co.kr/Bestsellers\")\n",
    "img = driver.find_elements_by_css_selector('img.lazy')\n",
    "img[0].click()"
   ]
  },
  {
   "cell_type": "code",
   "execution_count": 37,
   "id": "d36c795d",
   "metadata": {
    "scrolled": true
   },
   "outputs": [
    {
     "name": "stdout",
     "output_type": "stream",
     "text": [
      "(21년산/삼광/특) 아산맑은쌀 삼광 10KG 쿠폰32850원\n",
      "37,130원\n"
     ]
    },
    {
     "name": "stderr",
     "output_type": "stream",
     "text": [
      "C:\\Users\\smhrd\\AppData\\Local\\Temp/ipykernel_10152/3371722042.py:1: DeprecationWarning: find_element_by_* commands are deprecated. Please use find_element() instead\n",
      "  print(driver.find_element_by_css_selector('.itemtit').text)\n",
      "C:\\Users\\smhrd\\AppData\\Local\\Temp/ipykernel_10152/3371722042.py:2: DeprecationWarning: find_element_by_* commands are deprecated. Please use find_element() instead\n",
      "  print(driver.find_element_by_css_selector('.price_real').text)\n"
     ]
    }
   ],
   "source": [
    "print(driver.find_element_by_css_selector('.itemtit').text)\n",
    "print(driver.find_element_by_css_selector('.price_real').text)"
   ]
  },
  {
   "cell_type": "code",
   "execution_count": 38,
   "id": "42695adf",
   "metadata": {},
   "outputs": [],
   "source": [
    "driver.back()"
   ]
  },
  {
   "cell_type": "code",
   "execution_count": 39,
   "id": "832e17ef",
   "metadata": {},
   "outputs": [],
   "source": [
    "import pandas as pd"
   ]
  },
  {
   "cell_type": "code",
   "execution_count": 42,
   "id": "6d883a50",
   "metadata": {},
   "outputs": [],
   "source": [
    "# 헤드리스트 : 작업을 하지만 창을 띄우지 않고 백그라운드에서만 진행\n",
    "# 크롤러 : 크롤링 프로그램을 파일로 만드는 것 >> 사용자가 직접 창을 볼 필요 없을때 주로 많이 사용함\n",
    "options = wb.ChromeOptions()\n",
    "options.add_argument('headless')\n",
    "options.add_argument('window-size=1920x1080')\n",
    "options.add_argument(\"disable-gpu\")"
   ]
  },
  {
   "cell_type": "code",
   "execution_count": 43,
   "id": "227c4425",
   "metadata": {},
   "outputs": [
    {
     "name": "stderr",
     "output_type": "stream",
     "text": [
      "C:\\Users\\smhrd\\AppData\\Local\\Temp/ipykernel_10152/3057929081.py:1: DeprecationWarning: executable_path has been deprecated, please pass in a Service object\n",
      "  driver = wb.Chrome('C:/Users/smhrd/크롤링/chromedriver.exe', options = options)\n",
      "C:\\Users\\smhrd\\AppData\\Local\\Temp/ipykernel_10152/3057929081.py:10: DeprecationWarning: find_elements_by_* commands are deprecated. Please use find_elements() instead\n",
      "  img = driver.find_elements_by_css_selector('img.lazy')\n",
      "C:\\Users\\smhrd\\AppData\\Local\\Temp/ipykernel_10152/3057929081.py:14: DeprecationWarning: find_element_by_* commands are deprecated. Please use find_element() instead\n",
      "  title = driver.find_element_by_css_selector('.itemtit')\n",
      "C:\\Users\\smhrd\\AppData\\Local\\Temp/ipykernel_10152/3057929081.py:15: DeprecationWarning: find_element_by_* commands are deprecated. Please use find_element() instead\n",
      "  price = driver.find_element_by_css_selector('.price_real')\n"
     ]
    },
    {
     "data": {
      "text/html": [
       "<div>\n",
       "<style scoped>\n",
       "    .dataframe tbody tr th:only-of-type {\n",
       "        vertical-align: middle;\n",
       "    }\n",
       "\n",
       "    .dataframe tbody tr th {\n",
       "        vertical-align: top;\n",
       "    }\n",
       "\n",
       "    .dataframe thead th {\n",
       "        text-align: right;\n",
       "    }\n",
       "</style>\n",
       "<table border=\"1\" class=\"dataframe\">\n",
       "  <thead>\n",
       "    <tr style=\"text-align: right;\">\n",
       "      <th></th>\n",
       "      <th>상품명</th>\n",
       "      <th>가격</th>\n",
       "    </tr>\n",
       "  </thead>\n",
       "  <tbody>\n",
       "    <tr>\n",
       "      <th>0</th>\n",
       "      <td>(21년산/삼광/특) 아산맑은쌀 삼광 10KG 쿠폰32850원</td>\n",
       "      <td>37,130원</td>\n",
       "    </tr>\n",
       "    <tr>\n",
       "      <th>1</th>\n",
       "      <td>탐라 제주 흙감자 감자 5kg(중) / 22년 첫수확 햇감자</td>\n",
       "      <td>11,000원</td>\n",
       "    </tr>\n",
       "    <tr>\n",
       "      <th>2</th>\n",
       "      <td>세제 1.5(리)4개+800(세or유)2팩+세제50ml+샤세2종Q222</td>\n",
       "      <td>15,400원</td>\n",
       "    </tr>\n",
       "  </tbody>\n",
       "</table>\n",
       "</div>"
      ],
      "text/plain": [
       "                                       상품명       가격\n",
       "0       (21년산/삼광/특) 아산맑은쌀 삼광 10KG 쿠폰32850원  37,130원\n",
       "1        탐라 제주 흙감자 감자 5kg(중) / 22년 첫수확 햇감자  11,000원\n",
       "2  세제 1.5(리)4개+800(세or유)2팩+세제50ml+샤세2종Q222  15,400원"
      ]
     },
     "execution_count": 43,
     "metadata": {},
     "output_type": "execute_result"
    }
   ],
   "source": [
    "driver = wb.Chrome('C:/Users/smhrd/크롤링/chromedriver.exe', options = options)\n",
    "time.sleep(0.5)\n",
    "driver.get(\"http://corners.gmarket.co.kr/Bestsellers\")\n",
    "time.sleep(0.5)\n",
    "titleList = []\n",
    "priceList = []\n",
    "\n",
    "# 반복할거 합치기\n",
    "for i in range(3):\n",
    "    img = driver.find_elements_by_css_selector('img.lazy')\n",
    "    img[i].click()\n",
    "    time.sleep(1)\n",
    "    \n",
    "    title = driver.find_element_by_css_selector('.itemtit')\n",
    "    price = driver.find_element_by_css_selector('.price_real')\n",
    "    titleList.append(title.text)\n",
    "    priceList.append(price.text)\n",
    "    driver.back()\n",
    "    time.sleep(1)\n",
    "    \n",
    "# 데이터프레임 제작\n",
    "dic = {'상품명':titleList, '가격':priceList}\n",
    "df = pd.DataFrame(dic)\n",
    "df"
   ]
  },
  {
   "cell_type": "code",
   "execution_count": 41,
   "id": "df91530c",
   "metadata": {},
   "outputs": [],
   "source": [
    "df.to_csv('g마켓.csv', encoding='euc-kr')"
   ]
  }
 ],
 "metadata": {
  "kernelspec": {
   "display_name": "Python 3 (ipykernel)",
   "language": "python",
   "name": "python3"
  },
  "language_info": {
   "codemirror_mode": {
    "name": "ipython",
    "version": 3
   },
   "file_extension": ".py",
   "mimetype": "text/x-python",
   "name": "python",
   "nbconvert_exporter": "python",
   "pygments_lexer": "ipython3",
   "version": "3.9.7"
  }
 },
 "nbformat": 4,
 "nbformat_minor": 5
}
