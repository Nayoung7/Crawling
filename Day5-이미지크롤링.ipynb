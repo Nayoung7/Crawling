{
 "cells": [
  {
   "cell_type": "markdown",
   "id": "1c16e587",
   "metadata": {},
   "source": [
    "### 이미지크롤링"
   ]
  },
  {
   "cell_type": "code",
   "execution_count": 1,
   "id": "f101f576",
   "metadata": {},
   "outputs": [],
   "source": [
    "from selenium import webdriver as wb\n",
    "from selenium.webdriver.common.keys import Keys\n",
    "import time\n",
    "from bs4 import BeautifulSoup as bs\n",
    "import os # 파일 시스템을 위한 라이브러리 ex)파일, 폴더를 생성\n",
    "from urllib.request import urlretrieve # 이미지의 경로를 파일로 저장시켜주는 라이브러리"
   ]
  },
  {
   "cell_type": "code",
   "execution_count": 3,
   "id": "d5df2239",
   "metadata": {},
   "outputs": [],
   "source": [
    "# 폴더를 생성\n",
    "# 바탕화면에 이미지라는 폴더가 없다면 폴더를 생성해줘\n",
    "if not os.path.isdir('C:/Users/smhrd/Desktop/이미지'):\n",
    "    os.mkdir('C:/Users/smhrd/Desktop/이미지')"
   ]
  },
  {
   "cell_type": "code",
   "execution_count": 4,
   "id": "3406cda3",
   "metadata": {},
   "outputs": [],
   "source": [
    "driver = wb.Chrome()\n",
    "driver.get('https://search.naver.com/search.naver?where=image&sm=tab_jum&query=%EC%95%84%EC%9D%B4%EC%9C%A0')"
   ]
  },
  {
   "cell_type": "code",
   "execution_count": 6,
   "id": "2e17ecb7",
   "metadata": {},
   "outputs": [],
   "source": [
    "# driver가 가지고있는 page 소스를 html코드로 파싱하겠다.\n",
    "soup = bs(driver.page_source,'lxml')"
   ]
  },
  {
   "cell_type": "code",
   "execution_count": 9,
   "id": "fc9fdf38",
   "metadata": {},
   "outputs": [],
   "source": [
    "# img안에 있는건 문자처럼 보이지만 실제로는 요소라서 원하는 속성만 뽑아올수 있다.\n",
    "img = soup.select(\"img._image._listImage\")"
   ]
  },
  {
   "cell_type": "code",
   "execution_count": 10,
   "id": "fa87deba",
   "metadata": {},
   "outputs": [
    {
     "data": {
      "text/plain": [
       "'https://search.pstatic.net/common/?src=http%3A%2F%2Fimgnews.naver.net%2Fimage%2F311%2F2021%2F01%2F29%2F0001258558_001_20210129180242094.jpg&type=a340'"
      ]
     },
     "execution_count": 10,
     "metadata": {},
     "output_type": "execute_result"
    }
   ],
   "source": [
    "img[0]['src']"
   ]
  },
  {
   "cell_type": "code",
   "execution_count": 11,
   "id": "43996aba",
   "metadata": {},
   "outputs": [],
   "source": [
    "imgSrc=[]\n",
    "for i in img:\n",
    "    imgSrc.append(i['src'])"
   ]
  },
  {
   "cell_type": "code",
   "execution_count": 12,
   "id": "a278b0f9",
   "metadata": {
    "collapsed": true
   },
   "outputs": [
    {
     "data": {
      "text/plain": [
       "['https://search.pstatic.net/common/?src=http%3A%2F%2Fimgnews.naver.net%2Fimage%2F311%2F2021%2F01%2F29%2F0001258558_001_20210129180242094.jpg&type=a340',\n",
       " 'https://search.pstatic.net/common/?src=http%3A%2F%2Fblogfiles.naver.net%2FMjAyMTEyMDhfMjkw%2FMDAxNjM4OTQ4NTE5NzA2.HD9Ha5WoMlPLoXuIzTpkrj-MfpT94cCP65GNgzvo8rUg.hX6ombk2JNEz4F7SezZWt-FOJ-iMdIQpTkCtgysTLOog.JPEG.gnssudpdy%2FScreenshot_20211208-133604_blip1.jpg&type=a340',\n",
       " 'https://search.pstatic.net/common/?src=http%3A%2F%2Fblogfiles.naver.net%2FMjAyMTEyMTNfOCAg%2FMDAxNjM5Mzk1NjMwNjgw.zhEftFzdsBvfeABGbuQ2oFJGKU5GR1295-1lzAkDB5Qg.el3MiA9c6pFKCpst7mNOJpUntS7gjjsV3UBj4-mOTUgg.JPEG.dbfla1604%2FNew_Project_%252849%2529.jpg&type=a340',\n",
       " 'https://search.pstatic.net/common/?src=http%3A%2F%2Fblogfiles.naver.net%2FMjAyMjAxMDJfNCAg%2FMDAxNjQxMDg2OTkwODg3.DAvFA3mvPJ1hq34hFZm7I69beXXxeiSnSyKDTj4myRIg.eJmvuWV422K4v0exMs0Yc4wrbbRRzTGc9N4PlbZ5WZAg.JPEG.gydls004%2F1641086987196.jpg&type=a340',\n",
       " 'data:image/gif;base64,R0lGODlhAQABAIAAAAAAAP///yH5BAEAAAAALAAAAAABAAEAAAIBRAA7',\n",
       " 'https://search.pstatic.net/common/?src=http%3A%2F%2Fblogfiles.naver.net%2FMjAyMjAxMDFfMTg4%2FMDAxNjQxMDM5ODM2ODE3.FoeFtM_NdM61N2Zso5aVHrIaiERHiMn8d24oJ32ZYKIg.RsI2OkLa3es8_Lh3abDMkHZPzrVLEHFwtaWFX3LpsOIg.JPEG.dltpdud03%2FPicsart%25A3%25DF22%25A3%25AD01%25A3%25AD01%25A3%25DF21%25A3%25AD20%25A3%25AD11%25A3%25AD196.jpg&type=a340',\n",
       " 'https://search.pstatic.net/common/?src=http%3A%2F%2Fblogfiles.naver.net%2FMjAyMTEyMDhfNTUg%2FMDAxNjM4OTY4OTU0MDYz.b5U0gm0zirduT9ahVvif2gGDWIqSzXq5UW3TRF7fcFgg.Lk1UU_CUDZgjK7Og6ErdT3wDPgJcCcxkY1tJ1MJZ73Qg.JPEG.kitty_04_%2FIMG_0655.JPG&type=a340',\n",
       " 'https://search.pstatic.net/sunny/?src=https%3A%2F%2Fi3.ruliweb.com%2Fimg%2F22%2F01%2F04%2F17e25052ded4c326f.png&type=a340',\n",
       " 'https://search.pstatic.net/common/?src=http%3A%2F%2Fblogfiles.naver.net%2FMjAyMjAxMDVfODcg%2FMDAxNjQxMzQ5MTA0MDE0.0FPNINS1t8VAOvKzvwe6InC4XzB9X_jfpD8w2KYfmbUg.AwsvZc1LgUnVZRNA-39uMikRoNou746vwTP6u2_fHaYg.JPEG.hipboy3%2FInternet%25A3%25DF20220105%25A3%25DF111047%25A3%25DF15.jpeg&type=a340',\n",
       " 'data:image/gif;base64,R0lGODlhAQABAIAAAAAAAP///yH5BAEAAAAALAAAAAABAAEAAAIBRAA7',\n",
       " 'https://search.pstatic.net/common/?src=http%3A%2F%2Fblogfiles.naver.net%2FMjAyMDEyMThfODAg%2FMDAxNjA4MjYyOTM0MjMz.EW4YNSnU6iHZVWZpsslUKFEOT__Pt7_H9d34f5cP_YEg.0brG__USS34gYoXDcCtJw7P1t3Ih0yZvy854_Jy0hXog.JPEG.dudnfsla_%2FA0864CF4-5B4A-4807-95E8-89B157DB0EED.jpeg&type=a340',\n",
       " 'https://search.pstatic.net/common/?src=http%3A%2F%2Fimgnews.naver.net%2Fimage%2F311%2F2021%2F01%2F30%2F0001258768_001_20210130150739319.jpg&type=a340',\n",
       " 'https://search.pstatic.net/common/?src=http%3A%2F%2Fblogfiles.naver.net%2FMjAyMTEyMDRfNTUg%2FMDAxNjM4NjI3NDgyODMx.DMCiR4ncaiB_4K1kt5Be8eHW06JsTdaxAA61E44NBBog.0Os6DlFzKKfor5vv11lo05x2bqPOwIBHVXa1IDMxj6Ig.PNG.kmj424425%2Fimage.png&type=a340',\n",
       " 'https://search.pstatic.net/common/?src=http%3A%2F%2Fblogfiles.naver.net%2FMjAyMTAzMjlfMjQy%2FMDAxNjE3MDExNDI3OTk4.jBiUNyuscK3sB4KFrY9yXD3cgo35OK4TOBCJZRjoCy0g.q5SS-KbAfbAu1CbhZ5TfB0EfYkPUsHZ8asmboVGb2HAg.JPEG.smotherguy%2FExous5rVoAARatE.jpg&type=a340',\n",
       " 'data:image/gif;base64,R0lGODlhAQABAIAAAAAAAP///yH5BAEAAAAALAAAAAABAAEAAAIBRAA7',\n",
       " 'data:image/gif;base64,R0lGODlhAQABAIAAAAAAAP///yH5BAEAAAAALAAAAAABAAEAAAIBRAA7',\n",
       " 'data:image/gif;base64,R0lGODlhAQABAIAAAAAAAP///yH5BAEAAAAALAAAAAABAAEAAAIBRAA7',\n",
       " 'data:image/gif;base64,R0lGODlhAQABAIAAAAAAAP///yH5BAEAAAAALAAAAAABAAEAAAIBRAA7',\n",
       " 'data:image/gif;base64,R0lGODlhAQABAIAAAAAAAP///yH5BAEAAAAALAAAAAABAAEAAAIBRAA7',\n",
       " 'data:image/gif;base64,R0lGODlhAQABAIAAAAAAAP///yH5BAEAAAAALAAAAAABAAEAAAIBRAA7',\n",
       " 'data:image/gif;base64,R0lGODlhAQABAIAAAAAAAP///yH5BAEAAAAALAAAAAABAAEAAAIBRAA7',\n",
       " 'data:image/gif;base64,R0lGODlhAQABAIAAAAAAAP///yH5BAEAAAAALAAAAAABAAEAAAIBRAA7',\n",
       " 'data:image/gif;base64,R0lGODlhAQABAIAAAAAAAP///yH5BAEAAAAALAAAAAABAAEAAAIBRAA7',\n",
       " 'data:image/gif;base64,R0lGODlhAQABAIAAAAAAAP///yH5BAEAAAAALAAAAAABAAEAAAIBRAA7',\n",
       " 'data:image/gif;base64,R0lGODlhAQABAIAAAAAAAP///yH5BAEAAAAALAAAAAABAAEAAAIBRAA7',\n",
       " 'data:image/gif;base64,R0lGODlhAQABAIAAAAAAAP///yH5BAEAAAAALAAAAAABAAEAAAIBRAA7',\n",
       " 'data:image/gif;base64,R0lGODlhAQABAIAAAAAAAP///yH5BAEAAAAALAAAAAABAAEAAAIBRAA7',\n",
       " 'data:image/gif;base64,R0lGODlhAQABAIAAAAAAAP///yH5BAEAAAAALAAAAAABAAEAAAIBRAA7',\n",
       " 'data:image/gif;base64,R0lGODlhAQABAIAAAAAAAP///yH5BAEAAAAALAAAAAABAAEAAAIBRAA7',\n",
       " 'data:image/gif;base64,R0lGODlhAQABAIAAAAAAAP///yH5BAEAAAAALAAAAAABAAEAAAIBRAA7',\n",
       " 'data:image/gif;base64,R0lGODlhAQABAIAAAAAAAP///yH5BAEAAAAALAAAAAABAAEAAAIBRAA7',\n",
       " 'data:image/gif;base64,R0lGODlhAQABAIAAAAAAAP///yH5BAEAAAAALAAAAAABAAEAAAIBRAA7',\n",
       " 'data:image/gif;base64,R0lGODlhAQABAIAAAAAAAP///yH5BAEAAAAALAAAAAABAAEAAAIBRAA7',\n",
       " 'data:image/gif;base64,R0lGODlhAQABAIAAAAAAAP///yH5BAEAAAAALAAAAAABAAEAAAIBRAA7',\n",
       " 'data:image/gif;base64,R0lGODlhAQABAIAAAAAAAP///yH5BAEAAAAALAAAAAABAAEAAAIBRAA7',\n",
       " 'data:image/gif;base64,R0lGODlhAQABAIAAAAAAAP///yH5BAEAAAAALAAAAAABAAEAAAIBRAA7',\n",
       " 'data:image/gif;base64,R0lGODlhAQABAIAAAAAAAP///yH5BAEAAAAALAAAAAABAAEAAAIBRAA7',\n",
       " 'data:image/gif;base64,R0lGODlhAQABAIAAAAAAAP///yH5BAEAAAAALAAAAAABAAEAAAIBRAA7',\n",
       " 'data:image/gif;base64,R0lGODlhAQABAIAAAAAAAP///yH5BAEAAAAALAAAAAABAAEAAAIBRAA7',\n",
       " 'data:image/gif;base64,R0lGODlhAQABAIAAAAAAAP///yH5BAEAAAAALAAAAAABAAEAAAIBRAA7',\n",
       " 'data:image/gif;base64,R0lGODlhAQABAIAAAAAAAP///yH5BAEAAAAALAAAAAABAAEAAAIBRAA7',\n",
       " 'data:image/gif;base64,R0lGODlhAQABAIAAAAAAAP///yH5BAEAAAAALAAAAAABAAEAAAIBRAA7',\n",
       " 'data:image/gif;base64,R0lGODlhAQABAIAAAAAAAP///yH5BAEAAAAALAAAAAABAAEAAAIBRAA7',\n",
       " 'data:image/gif;base64,R0lGODlhAQABAIAAAAAAAP///yH5BAEAAAAALAAAAAABAAEAAAIBRAA7',\n",
       " 'data:image/gif;base64,R0lGODlhAQABAIAAAAAAAP///yH5BAEAAAAALAAAAAABAAEAAAIBRAA7',\n",
       " 'data:image/gif;base64,R0lGODlhAQABAIAAAAAAAP///yH5BAEAAAAALAAAAAABAAEAAAIBRAA7',\n",
       " 'data:image/gif;base64,R0lGODlhAQABAIAAAAAAAP///yH5BAEAAAAALAAAAAABAAEAAAIBRAA7',\n",
       " 'data:image/gif;base64,R0lGODlhAQABAIAAAAAAAP///yH5BAEAAAAALAAAAAABAAEAAAIBRAA7',\n",
       " 'data:image/gif;base64,R0lGODlhAQABAIAAAAAAAP///yH5BAEAAAAALAAAAAABAAEAAAIBRAA7',\n",
       " 'data:image/gif;base64,R0lGODlhAQABAIAAAAAAAP///yH5BAEAAAAALAAAAAABAAEAAAIBRAA7']"
      ]
     },
     "execution_count": 12,
     "metadata": {},
     "output_type": "execute_result"
    }
   ],
   "source": [
    "imgSrc"
   ]
  },
  {
   "cell_type": "code",
   "execution_count": 15,
   "id": "6e8e5929",
   "metadata": {},
   "outputs": [],
   "source": [
    "for i in range(len(imgSrc)):\n",
    "    urlretrieve(imgSrc[i],'C:/Users/smhrd/Desktop/이미지/'+str(i)+'.jpg')\n",
    "    time.sleep(1)"
   ]
  },
  {
   "cell_type": "code",
   "execution_count": null,
   "id": "7736701a",
   "metadata": {},
   "outputs": [],
   "source": []
  }
 ],
 "metadata": {
  "kernelspec": {
   "display_name": "Python 3 (ipykernel)",
   "language": "python",
   "name": "python3"
  },
  "language_info": {
   "codemirror_mode": {
    "name": "ipython",
    "version": 3
   },
   "file_extension": ".py",
   "mimetype": "text/x-python",
   "name": "python",
   "nbconvert_exporter": "python",
   "pygments_lexer": "ipython3",
   "version": "3.9.7"
  }
 },
 "nbformat": 4,
 "nbformat_minor": 5
}
