{
 "cells": [
  {
   "cell_type": "markdown",
   "id": "20388268",
   "metadata": {},
   "source": [
    "# 1.6(목)"
   ]
  },
  {
   "cell_type": "markdown",
   "id": "155b4629",
   "metadata": {},
   "source": [
    "### 크롤링\n",
    "- 웹 페이지를 그대로 가져와서 가져온 페이지에서 데이터를 추출해 내는 행위"
   ]
  },
  {
   "cell_type": "markdown",
   "id": "335b9b95",
   "metadata": {},
   "source": [
    "### Requests 사용법"
   ]
  },
  {
   "cell_type": "code",
   "execution_count": 1,
   "id": "74cd05f0",
   "metadata": {},
   "outputs": [],
   "source": [
    "# 서버에 페이지 정보를 요청할 때 사용하는 라이브러리\n",
    "import requests as req"
   ]
  },
  {
   "cell_type": "code",
   "execution_count": 2,
   "id": "01012a15",
   "metadata": {},
   "outputs": [
    {
     "data": {
      "text/plain": [
       "<Response [200]>"
      ]
     },
     "execution_count": 2,
     "metadata": {},
     "output_type": "execute_result"
    }
   ],
   "source": [
    "# 특정 url에 접속하는 요청(request) 객체를 생성 : req.get(url)\n",
    "# html 코드주세요!하고 받아놓은것\n",
    "url = 'https://www.naver.com/'\n",
    "res = req.get(url)\n",
    "res\n",
    "# <Response [200]> : 응답에 성공했다는 의미"
   ]
  },
  {
   "cell_type": "code",
   "execution_count": null,
   "id": "b0018ae3",
   "metadata": {},
   "outputs": [],
   "source": [
    "# html 코드 정보 보기\n",
    "res.text"
   ]
  },
  {
   "cell_type": "markdown",
   "id": "9a90b0a5",
   "metadata": {},
   "source": [
    "### BeautifulSoup 사용하기\n",
    "- 가져온 html 코드에서 내가 원하는 내용만 추출할 때 사용"
   ]
  },
  {
   "cell_type": "code",
   "execution_count": 4,
   "id": "ae4f44a3",
   "metadata": {},
   "outputs": [],
   "source": [
    "from bs4 import BeautifulSoup as bs"
   ]
  },
  {
   "cell_type": "code",
   "execution_count": 6,
   "id": "07920a4c",
   "metadata": {},
   "outputs": [],
   "source": [
    "# 파싱 bs(파싱할 데이터, 파싱방법)\n",
    "soup = bs(res.text, 'lxml')"
   ]
  },
  {
   "cell_type": "code",
   "execution_count": 7,
   "id": "6fe2f14c",
   "metadata": {},
   "outputs": [
    {
     "data": {
      "text/plain": [
       "<a class=\"nav\" data-clk=\"svc.mail\" href=\"https://mail.naver.com/\"><i class=\"ico_mail\"></i>메일</a>"
      ]
     },
     "execution_count": 7,
     "metadata": {},
     "output_type": "execute_result"
    }
   ],
   "source": [
    "soup.select_one('a.nav')"
   ]
  },
  {
   "cell_type": "code",
   "execution_count": 8,
   "id": "5d4528a7",
   "metadata": {},
   "outputs": [
    {
     "data": {
      "text/plain": [
       "[<a class=\"nav\" data-clk=\"svc.mail\" href=\"https://mail.naver.com/\"><i class=\"ico_mail\"></i>메일</a>,\n",
       " <a class=\"nav\" data-clk=\"svc.cafe\" href=\"https://section.cafe.naver.com/\">카페</a>,\n",
       " <a class=\"nav\" data-clk=\"svc.blog\" href=\"https://section.blog.naver.com/\">블로그</a>,\n",
       " <a class=\"nav\" data-clk=\"svc.kin\" href=\"https://kin.naver.com/\">지식iN</a>,\n",
       " <a class=\"nav shop\" data-clk=\"svc.shopping\" href=\"https://shopping.naver.com/\"><span class=\"blind\">쇼핑</span></a>,\n",
       " <a class=\"nav shoplive\" data-clk=\"svc.shoppinglive\" href=\"https://shoppinglive.naver.com/home\"><span class=\"blind\">쇼핑LIVE</span></a>,\n",
       " <a class=\"nav\" data-clk=\"svc.pay\" href=\"https://order.pay.naver.com/home\">Pay</a>,\n",
       " <a class=\"nav\" data-clk=\"svc.tvcast\" href=\"https://tv.naver.com/\"><i class=\"ico_tv\"></i>TV</a>,\n",
       " <a class=\"nav\" data-clk=\"svc.dic\" href=\"https://dict.naver.com/\">사전</a>,\n",
       " <a class=\"nav\" data-clk=\"svc.news\" href=\"https://news.naver.com/\">뉴스</a>,\n",
       " <a class=\"nav\" data-clk=\"svc.stock\" href=\"https://finance.naver.com/\">증권</a>,\n",
       " <a class=\"nav\" data-clk=\"svc.land\" href=\"https://land.naver.com/\">부동산</a>,\n",
       " <a class=\"nav\" data-clk=\"svc.map\" href=\"https://map.naver.com/\">지도</a>,\n",
       " <a class=\"nav\" data-clk=\"svc.vibe\" href=\"https://vibe.naver.com/\">VIBE</a>,\n",
       " <a class=\"nav\" data-clk=\"svc.book\" href=\"https://book.naver.com/\">책</a>,\n",
       " <a class=\"nav\" data-clk=\"svc.webtoon\" href=\"https://comic.naver.com/\">웹툰</a>]"
      ]
     },
     "execution_count": 8,
     "metadata": {},
     "output_type": "execute_result"
    }
   ],
   "source": [
    "soup.select('a.nav')"
   ]
  },
  {
   "cell_type": "code",
   "execution_count": 9,
   "id": "32903df8",
   "metadata": {},
   "outputs": [
    {
     "data": {
      "text/plain": [
       "<a class=\"nav\" data-clk=\"svc.blog\" href=\"https://section.blog.naver.com/\">블로그</a>"
      ]
     },
     "execution_count": 9,
     "metadata": {},
     "output_type": "execute_result"
    }
   ],
   "source": [
    "soup.select('a.nav')[2]"
   ]
  },
  {
   "cell_type": "code",
   "execution_count": 10,
   "id": "b8976e3b",
   "metadata": {},
   "outputs": [
    {
     "data": {
      "text/plain": [
       "'블로그'"
      ]
     },
     "execution_count": 10,
     "metadata": {},
     "output_type": "execute_result"
    }
   ],
   "source": [
    "# 태그 말고 안의 content만 불러오고 싶을 때\n",
    "soup.select('a.nav')[2].text"
   ]
  },
  {
   "cell_type": "markdown",
   "id": "fb571dd4",
   "metadata": {},
   "source": [
    "### 광주날씨 데이터 수집"
   ]
  },
  {
   "cell_type": "code",
   "execution_count": 11,
   "id": "654a26f5",
   "metadata": {},
   "outputs": [
    {
     "data": {
      "text/plain": [
       "<Response [200]>"
      ]
     },
     "execution_count": 11,
     "metadata": {},
     "output_type": "execute_result"
    }
   ],
   "source": [
    "# 네이버에 광주날씨 검색해서 6도라고 써져있는 글씨 가져오기\n",
    "url2 = 'https://search.naver.com/search.naver?where=nexearch&sm=top_hty&fbm=1&ie=utf8&query=%EA%B4%91%EC%A3%BC%EB%82%A0%EC%94%A8'\n",
    "res2 = req.get(url2)\n",
    "res2"
   ]
  },
  {
   "cell_type": "code",
   "execution_count": null,
   "id": "c7f4df1f",
   "metadata": {},
   "outputs": [],
   "source": [
    "res2.text"
   ]
  },
  {
   "cell_type": "code",
   "execution_count": null,
   "id": "96b3c2cb",
   "metadata": {},
   "outputs": [],
   "source": [
    "soup2 = bs(res2.text, 'lxml')\n",
    "soup2"
   ]
  },
  {
   "cell_type": "code",
   "execution_count": 14,
   "id": "eb6f933e",
   "metadata": {},
   "outputs": [
    {
     "data": {
      "text/plain": [
       "[<div class=\"temperature_text\"> <strong><span class=\"blind\">현재 온도</span>6<span class=\"celsius\">°</span></strong> </div>,\n",
       " <div class=\"temperature_text\"> <strong><span class=\"blind\">예측 온도</span>-4<span class=\"celsius\">°</span></strong> </div>,\n",
       " <div class=\"temperature_text\"> <strong><span class=\"blind\">예측 온도</span>8<span class=\"celsius\">°</span></strong> </div>,\n",
       " <div class=\"temperature_text\"> <strong><span class=\"blind\">예측 온도</span>-3<span class=\"celsius\">°</span></strong> </div>,\n",
       " <div class=\"temperature_text\"> <strong><span class=\"blind\">예측 온도</span>8<span class=\"celsius\">°</span></strong> </div>]"
      ]
     },
     "execution_count": 14,
     "metadata": {},
     "output_type": "execute_result"
    }
   ],
   "source": [
    "soup2.select('div.temperature_text')"
   ]
  },
  {
   "cell_type": "code",
   "execution_count": 17,
   "id": "505e1b9d",
   "metadata": {},
   "outputs": [
    {
     "data": {
      "text/plain": [
       "<div class=\"temperature_text\"> <strong><span class=\"blind\">현재 온도</span>6<span class=\"celsius\">°</span></strong> </div>"
      ]
     },
     "execution_count": 17,
     "metadata": {},
     "output_type": "execute_result"
    }
   ],
   "source": [
    "soup2.select('div.temperature_text')[0]"
   ]
  },
  {
   "cell_type": "code",
   "execution_count": 18,
   "id": "ca73fd62",
   "metadata": {},
   "outputs": [
    {
     "data": {
      "text/plain": [
       "' 현재 온도6° '"
      ]
     },
     "execution_count": 18,
     "metadata": {},
     "output_type": "execute_result"
    }
   ],
   "source": [
    "soup2.select('div.temperature_text')[0].text"
   ]
  },
  {
   "cell_type": "code",
   "execution_count": 22,
   "id": "5a834409",
   "metadata": {},
   "outputs": [
    {
     "data": {
      "text/plain": [
       "<strong><span class=\"blind\">현재 온도</span>6<span class=\"celsius\">°</span></strong>"
      ]
     },
     "execution_count": 22,
     "metadata": {},
     "output_type": "execute_result"
    }
   ],
   "source": [
    "soup2.select('div.temperature_text > strong')[0]"
   ]
  },
  {
   "cell_type": "markdown",
   "id": "c7faaa84",
   "metadata": {},
   "source": [
    "### 멜론차트 수집"
   ]
  },
  {
   "cell_type": "code",
   "execution_count": 25,
   "id": "17129c50",
   "metadata": {},
   "outputs": [
    {
     "data": {
      "text/plain": [
       "<Response [200]>"
      ]
     },
     "execution_count": 25,
     "metadata": {},
     "output_type": "execute_result"
    }
   ],
   "source": [
    "url3 = 'https://www.melon.com/chart/index.htm'\n",
    "res3 = req.get(url3, headers = h)\n",
    "res3\n",
    "# <Response [406]> : 응답 실패"
   ]
  },
  {
   "cell_type": "code",
   "execution_count": 24,
   "id": "a947d2a2",
   "metadata": {},
   "outputs": [],
   "source": [
    "# 멜론차트 페이지의 네트워크 headers에 있음\n",
    "h = {'User-Agent': 'Mozilla/5.0 (Windows NT 10.0; Win64; x64) AppleWebKit/537.36 (KHTML, like Gecko) Chrome/97.0.4692.71 Safari/537.36'}"
   ]
  },
  {
   "cell_type": "code",
   "execution_count": null,
   "id": "51b04df1",
   "metadata": {},
   "outputs": [],
   "source": [
    "res3.text"
   ]
  },
  {
   "cell_type": "code",
   "execution_count": null,
   "id": "cea40067",
   "metadata": {},
   "outputs": [],
   "source": [
    "soup3 = bs(res3.text, 'lxml')\n",
    "soup3"
   ]
  },
  {
   "cell_type": "code",
   "execution_count": 43,
   "id": "07047fd5",
   "metadata": {
    "collapsed": true
   },
   "outputs": [
    {
     "name": "stdout",
     "output_type": "stream",
     "text": [
      "Counting Stars (Feat. Beenzino)\n",
      "사랑은 늘 도망가\n",
      "회전목마 (Feat. Zion.T, 원슈타인) (Prod. Slom)\n",
      "리무진 (Feat. MINO) (Prod. GRAY)\n",
      "겨울잠\n",
      "ELEVEN\n",
      "취중고백\n",
      "만남은 쉽고 이별은 어려워 (Feat. Leellamarz) (Prod. TOIL)\n",
      "눈이 오잖아(Feat.헤이즈)\n",
      "Dreams Come True\n",
      "드라마\n",
      "strawberry moon\n",
      "다정히 내 이름을 부르면\n",
      "Savage\n",
      "불협화음 (Feat. AKMU) (Prod. GRAY)\n",
      "신호등\n",
      "STAY\n",
      "이제 나만 믿어요\n",
      "Next Level\n",
      "흰눈\n",
      "네가 없는 밤 (Feat. ASH ISLAND) (Prod. GRAY)\n",
      "쉬어 (Feat. MINO) (Prod. GRAY)\n",
      "그대라는 사치\n",
      "너를 생각해\n",
      "정거장\n",
      "Wake Up (Prod. 코드 쿤스트)\n",
      "다시 사랑한다면 (김필 Ver.)\n",
      "별빛 같은 나의 사랑아\n",
      "Butter\n",
      "Step Back\n",
      "Christmas Tree\n",
      "OHAYO MY NIGHT\n",
      "Permission to Dance\n",
      "문득\n",
      "잊었니\n",
      "HERO\n",
      "My Universe\n",
      "낙하 (with 아이유)\n",
      "바라만 본다\n",
      "Dynamite\n",
      "끝사랑\n",
      "우리가 헤어져야 했던 이유\n",
      "러브레터\n",
      "Celebrity\n",
      "Bk Love\n",
      "Weekend\n",
      "그게 더 편할 것 같아 (N번째 연애 X 멜로망스)\n",
      "헤픈 우연\n",
      "Still I Love You\n",
      "라일락\n",
      "너\n",
      "Bad Habits\n",
      "밤하늘의 별을(2020)\n",
      "서랍\n",
      "고백\n",
      "어떻게 이별까지 사랑하겠어, 널 사랑하는 거지\n",
      "찰나가 영원이 될 때 (The Eternal Moment)\n",
      "사이렌 Remix (Feat. UNEDUCATED KID, Paul Blanco)\n",
      "MBTI (Feat. 쿠기 & 로꼬) (Prod. GRAY)\n",
      "이별후회\n",
      "모든 날, 모든 순간 (Every day, Every Moment)\n",
      "롤린 (Rollin')\n",
      "추억은 만남보다 이별에 남아\n",
      "내 손을 잡아\n",
      "안녕 우린 헤어져야만 해\n",
      "밝게 빛나는 별이 되어 비춰줄게\n",
      "시간을 거슬러 (낮에 뜨는 달 X 케이윌)\n",
      "Dun Dun Dance\n",
      "매일 크리스마스 (Everyday Christmas)\n",
      "계단말고 엘리베이터\n",
      "Snowman\n",
      "봄날\n",
      "작은 것들을 위한 시 (Boy With Luv) (Feat. Halsey)\n",
      "Blueming\n",
      "좋아좋아\n",
      "Off My Face\n",
      "오늘도 빛나는 너에게 (To You My Light) (Feat.이라온)\n",
      "비가 오는 날엔 (2021)\n",
      "죽을 만큼 아파서 (Feat. JAMIE (제이미))\n",
      "Queendom\n",
      "탕!♡\n",
      "DUMB DUMB\n",
      "호우주의 (Feat. 개코, 넉살 (Nucksal)) (Prod. 코드 쿤스트)\n",
      "Savage Love (Laxed - Siren Beat) (BTS Remix)\n",
      "멜로디\n",
      "너의 모든 순간\n",
      "Santa Tell Me\n",
      "취기를 빌려 (취향저격 그녀 X 산들)\n",
      "나 그댈위해 시 한편을 쓰겠어\n",
      "깐부 (Feat. 염따, ASH ISLAND) (Prod. TOIL)\n",
      "밤새 서로 미루다\n",
      "그날에 나는 맘이 편했을까\n",
      "Life Goes On\n",
      "비와 당신\n",
      "언덕나무\n",
      "ASAP\n",
      "All I Want for Christmas Is You\n",
      "Peaches (Feat. Daniel Caesar & Giveon)\n",
      "너와 나의 Memories\n",
      "미리 메리 크리스마스 (Feat. 천둥 Of MBLAQ)\n"
     ]
    }
   ],
   "source": [
    "soup3_list = soup3.select('div.ellipsis.rank01 a')\n",
    "\n",
    "for i in soup3_list:\n",
    "    print(i.text)"
   ]
  },
  {
   "cell_type": "code",
   "execution_count": 70,
   "id": "0c6388f4",
   "metadata": {},
   "outputs": [],
   "source": [
    "singer2 = soup3.select('div.ellipsis.rank02>a:nth-child(1)')"
   ]
  },
  {
   "cell_type": "code",
   "execution_count": 71,
   "id": "81bb6ca6",
   "metadata": {},
   "outputs": [
    {
     "data": {
      "text/plain": [
       "100"
      ]
     },
     "execution_count": 71,
     "metadata": {},
     "output_type": "execute_result"
    }
   ],
   "source": [
    "len(singer2)"
   ]
  },
  {
   "cell_type": "code",
   "execution_count": 73,
   "id": "0e094c36",
   "metadata": {},
   "outputs": [],
   "source": [
    "title_list = []\n",
    "singer_list = []\n",
    "rank_list = []\n",
    "\n",
    "for i in range(len(soup3_list)):\n",
    "    title_list.append(soup3_list[i].text)\n",
    "    singer_list.append(singer2[i].text)\n",
    "    rank_list.append(i + 1)"
   ]
  },
  {
   "cell_type": "code",
   "execution_count": 72,
   "id": "f889f1cb",
   "metadata": {},
   "outputs": [],
   "source": [
    "import pandas as pd"
   ]
  },
  {
   "cell_type": "code",
   "execution_count": 74,
   "id": "91df47e6",
   "metadata": {},
   "outputs": [],
   "source": [
    "dic = {'노래제목':title_list, '가수':singer_list,'순위':rank_list}"
   ]
  },
  {
   "cell_type": "code",
   "execution_count": 75,
   "id": "72baa5f8",
   "metadata": {},
   "outputs": [
    {
     "data": {
      "text/html": [
       "<div>\n",
       "<style scoped>\n",
       "    .dataframe tbody tr th:only-of-type {\n",
       "        vertical-align: middle;\n",
       "    }\n",
       "\n",
       "    .dataframe tbody tr th {\n",
       "        vertical-align: top;\n",
       "    }\n",
       "\n",
       "    .dataframe thead th {\n",
       "        text-align: right;\n",
       "    }\n",
       "</style>\n",
       "<table border=\"1\" class=\"dataframe\">\n",
       "  <thead>\n",
       "    <tr style=\"text-align: right;\">\n",
       "      <th></th>\n",
       "      <th>노래제목</th>\n",
       "      <th>가수</th>\n",
       "      <th>순위</th>\n",
       "    </tr>\n",
       "  </thead>\n",
       "  <tbody>\n",
       "    <tr>\n",
       "      <th>0</th>\n",
       "      <td>Counting Stars (Feat. Beenzino)</td>\n",
       "      <td>BE'O (비오)</td>\n",
       "      <td>1</td>\n",
       "    </tr>\n",
       "    <tr>\n",
       "      <th>1</th>\n",
       "      <td>사랑은 늘 도망가</td>\n",
       "      <td>임영웅</td>\n",
       "      <td>2</td>\n",
       "    </tr>\n",
       "    <tr>\n",
       "      <th>2</th>\n",
       "      <td>회전목마 (Feat. Zion.T, 원슈타인) (Prod. Slom)</td>\n",
       "      <td>sokodomo</td>\n",
       "      <td>3</td>\n",
       "    </tr>\n",
       "    <tr>\n",
       "      <th>3</th>\n",
       "      <td>리무진 (Feat. MINO) (Prod. GRAY)</td>\n",
       "      <td>BE'O (비오)</td>\n",
       "      <td>4</td>\n",
       "    </tr>\n",
       "    <tr>\n",
       "      <th>4</th>\n",
       "      <td>겨울잠</td>\n",
       "      <td>아이유</td>\n",
       "      <td>5</td>\n",
       "    </tr>\n",
       "    <tr>\n",
       "      <th>...</th>\n",
       "      <td>...</td>\n",
       "      <td>...</td>\n",
       "      <td>...</td>\n",
       "    </tr>\n",
       "    <tr>\n",
       "      <th>95</th>\n",
       "      <td>ASAP</td>\n",
       "      <td>STAYC(스테이씨)</td>\n",
       "      <td>96</td>\n",
       "    </tr>\n",
       "    <tr>\n",
       "      <th>96</th>\n",
       "      <td>All I Want for Christmas Is You</td>\n",
       "      <td>Mariah Carey</td>\n",
       "      <td>97</td>\n",
       "    </tr>\n",
       "    <tr>\n",
       "      <th>97</th>\n",
       "      <td>Peaches (Feat. Daniel Caesar &amp; Giveon)</td>\n",
       "      <td>Justin Bieber</td>\n",
       "      <td>98</td>\n",
       "    </tr>\n",
       "    <tr>\n",
       "      <th>98</th>\n",
       "      <td>너와 나의 Memories</td>\n",
       "      <td>염따</td>\n",
       "      <td>99</td>\n",
       "    </tr>\n",
       "    <tr>\n",
       "      <th>99</th>\n",
       "      <td>미리 메리 크리스마스 (Feat. 천둥 Of MBLAQ)</td>\n",
       "      <td>아이유</td>\n",
       "      <td>100</td>\n",
       "    </tr>\n",
       "  </tbody>\n",
       "</table>\n",
       "<p>100 rows × 3 columns</p>\n",
       "</div>"
      ],
      "text/plain": [
       "                                      노래제목             가수   순위\n",
       "0          Counting Stars (Feat. Beenzino)      BE'O (비오)    1\n",
       "1                                사랑은 늘 도망가            임영웅    2\n",
       "2   회전목마 (Feat. Zion.T, 원슈타인) (Prod. Slom)       sokodomo    3\n",
       "3            리무진 (Feat. MINO) (Prod. GRAY)      BE'O (비오)    4\n",
       "4                                      겨울잠            아이유    5\n",
       "..                                     ...            ...  ...\n",
       "95                                    ASAP    STAYC(스테이씨)   96\n",
       "96         All I Want for Christmas Is You   Mariah Carey   97\n",
       "97  Peaches (Feat. Daniel Caesar & Giveon)  Justin Bieber   98\n",
       "98                          너와 나의 Memories             염따   99\n",
       "99         미리 메리 크리스마스 (Feat. 천둥 Of MBLAQ)            아이유  100\n",
       "\n",
       "[100 rows x 3 columns]"
      ]
     },
     "execution_count": 75,
     "metadata": {},
     "output_type": "execute_result"
    }
   ],
   "source": [
    "df = pd.DataFrame(dic)\n",
    "df"
   ]
  },
  {
   "cell_type": "code",
   "execution_count": 77,
   "id": "cf82356e",
   "metadata": {},
   "outputs": [],
   "source": [
    "df.set_index('순위', inplace=True)"
   ]
  },
  {
   "cell_type": "code",
   "execution_count": 78,
   "id": "82e00d8b",
   "metadata": {},
   "outputs": [
    {
     "data": {
      "text/html": [
       "<div>\n",
       "<style scoped>\n",
       "    .dataframe tbody tr th:only-of-type {\n",
       "        vertical-align: middle;\n",
       "    }\n",
       "\n",
       "    .dataframe tbody tr th {\n",
       "        vertical-align: top;\n",
       "    }\n",
       "\n",
       "    .dataframe thead th {\n",
       "        text-align: right;\n",
       "    }\n",
       "</style>\n",
       "<table border=\"1\" class=\"dataframe\">\n",
       "  <thead>\n",
       "    <tr style=\"text-align: right;\">\n",
       "      <th></th>\n",
       "      <th>노래제목</th>\n",
       "      <th>가수</th>\n",
       "    </tr>\n",
       "    <tr>\n",
       "      <th>순위</th>\n",
       "      <th></th>\n",
       "      <th></th>\n",
       "    </tr>\n",
       "  </thead>\n",
       "  <tbody>\n",
       "    <tr>\n",
       "      <th>1</th>\n",
       "      <td>Counting Stars (Feat. Beenzino)</td>\n",
       "      <td>BE'O (비오)</td>\n",
       "    </tr>\n",
       "    <tr>\n",
       "      <th>2</th>\n",
       "      <td>사랑은 늘 도망가</td>\n",
       "      <td>임영웅</td>\n",
       "    </tr>\n",
       "    <tr>\n",
       "      <th>3</th>\n",
       "      <td>회전목마 (Feat. Zion.T, 원슈타인) (Prod. Slom)</td>\n",
       "      <td>sokodomo</td>\n",
       "    </tr>\n",
       "    <tr>\n",
       "      <th>4</th>\n",
       "      <td>리무진 (Feat. MINO) (Prod. GRAY)</td>\n",
       "      <td>BE'O (비오)</td>\n",
       "    </tr>\n",
       "    <tr>\n",
       "      <th>5</th>\n",
       "      <td>겨울잠</td>\n",
       "      <td>아이유</td>\n",
       "    </tr>\n",
       "    <tr>\n",
       "      <th>...</th>\n",
       "      <td>...</td>\n",
       "      <td>...</td>\n",
       "    </tr>\n",
       "    <tr>\n",
       "      <th>96</th>\n",
       "      <td>ASAP</td>\n",
       "      <td>STAYC(스테이씨)</td>\n",
       "    </tr>\n",
       "    <tr>\n",
       "      <th>97</th>\n",
       "      <td>All I Want for Christmas Is You</td>\n",
       "      <td>Mariah Carey</td>\n",
       "    </tr>\n",
       "    <tr>\n",
       "      <th>98</th>\n",
       "      <td>Peaches (Feat. Daniel Caesar &amp; Giveon)</td>\n",
       "      <td>Justin Bieber</td>\n",
       "    </tr>\n",
       "    <tr>\n",
       "      <th>99</th>\n",
       "      <td>너와 나의 Memories</td>\n",
       "      <td>염따</td>\n",
       "    </tr>\n",
       "    <tr>\n",
       "      <th>100</th>\n",
       "      <td>미리 메리 크리스마스 (Feat. 천둥 Of MBLAQ)</td>\n",
       "      <td>아이유</td>\n",
       "    </tr>\n",
       "  </tbody>\n",
       "</table>\n",
       "<p>100 rows × 2 columns</p>\n",
       "</div>"
      ],
      "text/plain": [
       "                                       노래제목             가수\n",
       "순위                                                        \n",
       "1           Counting Stars (Feat. Beenzino)      BE'O (비오)\n",
       "2                                 사랑은 늘 도망가            임영웅\n",
       "3    회전목마 (Feat. Zion.T, 원슈타인) (Prod. Slom)       sokodomo\n",
       "4             리무진 (Feat. MINO) (Prod. GRAY)      BE'O (비오)\n",
       "5                                       겨울잠            아이유\n",
       "..                                      ...            ...\n",
       "96                                     ASAP    STAYC(스테이씨)\n",
       "97          All I Want for Christmas Is You   Mariah Carey\n",
       "98   Peaches (Feat. Daniel Caesar & Giveon)  Justin Bieber\n",
       "99                           너와 나의 Memories             염따\n",
       "100         미리 메리 크리스마스 (Feat. 천둥 Of MBLAQ)            아이유\n",
       "\n",
       "[100 rows x 2 columns]"
      ]
     },
     "execution_count": 78,
     "metadata": {},
     "output_type": "execute_result"
    }
   ],
   "source": [
    "df"
   ]
  },
  {
   "cell_type": "code",
   "execution_count": null,
   "id": "289d8cfa",
   "metadata": {},
   "outputs": [],
   "source": []
  }
 ],
 "metadata": {
  "kernelspec": {
   "display_name": "Python 3 (ipykernel)",
   "language": "python",
   "name": "python3"
  },
  "language_info": {
   "codemirror_mode": {
    "name": "ipython",
    "version": 3
   },
   "file_extension": ".py",
   "mimetype": "text/x-python",
   "name": "python",
   "nbconvert_exporter": "python",
   "pygments_lexer": "ipython3",
   "version": "3.9.7"
  }
 },
 "nbformat": 4,
 "nbformat_minor": 5
}
